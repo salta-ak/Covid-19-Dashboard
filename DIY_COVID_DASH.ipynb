{
 "cells": [
  {
   "cell_type": "markdown",
   "metadata": {},
   "source": [
    "[Covid-19-Dashboard](https://github.com/salta-ak/Covid-19-Dashboard) (C) Saltanat Akhmet, 2020 ([s.akhmet@se20.qmul.ac.uk])(mailto:s.akhmet@se20.qmul.ac.uk). All rights reserved."
   ]
  },
  {
   "cell_type": "markdown",
   "metadata": {},
   "source": [
    "# Covid-19 Dashboard"
   ]
  },
  {
   "cell_type": "code",
   "execution_count": 122,
   "metadata": {},
   "outputs": [],
   "source": [
    "import ipywidgets as wdg\n",
    "import pandas as pd\n",
    "import numpy as np\n",
    "import matplotlib.pyplot as plt\n",
    "import json\n",
    "from uk_covid19 import Cov19API"
   ]
  },
  {
   "cell_type": "code",
   "execution_count": 123,
   "metadata": {},
   "outputs": [],
   "source": [
    "%matplotlib inline\n",
    "# make figures larger\n",
    "plt.rcParams['figure.dpi'] = 100"
   ]
  },
  {
   "cell_type": "code",
   "execution_count": 126,
   "metadata": {},
   "outputs": [],
   "source": [
    "# Load JSON files and store the raw data in some variable. Edit as appropriate\n",
    "jsondata={}\n",
    "filters = [ 'areaType=overview']\n",
    "structure = {\"date\": \"date\", \"cases\": \"newCasesByPublishDate\",\"hospital\": \"newAdmissions\", \"deaths\": \"cumDeaths28DaysByDeathDateRate\" }\n",
    "api = Cov19API(filters=filters, structure=structure)\n",
    "timeseries=api.get_json()\n",
    "jsondata=timeseries['data']    \n",
    "jsondata_ga={}\n",
    "filters_ga = [ 'areaType=nation', 'areaName=England']\n",
    "structure_ga = {\"males\": \"maleCases\",\"females\": \"femaleCases\"}\n",
    "api_age = Cov19API(filters=filters_ga, structure=structure_ga)\n",
    "agedist=api_age.get_json()\n",
    "jsondata_ga=agedist['data']\n",
    "with open(\"timeseries.json\", \"wt\") as OUTF:\n",
    "    json.dump(jsondata, OUTF)\n",
    "with open(\"agedistribution.json\", \"wt\") as OUTF:\n",
    "    json.dump(jsondata_ga, OUTF)"
   ]
  },
  {
   "cell_type": "code",
   "execution_count": 132,
   "metadata": {},
   "outputs": [],
   "source": [
    "def parse_date(datestring):\n",
    "    \"\"\" Convert a date string into a pandas datetime object \"\"\"\n",
    "    return pd.to_datetime(datestring, format=\"%Y-%m-%d\")\n",
    "\n",
    "def wrangle_data(rawdata,rawdata_ga):\n",
    "    dates=[dictionary['date'] for dictionary in rawdata ]\n",
    "    dates.sort()\n",
    "    startdate=parse_date(dates[0])\n",
    "    enddate=parse_date(dates[-1])\n",
    "    index=pd.date_range(startdate, enddate, freq='D')\n",
    "    timeseriesdf=pd.DataFrame(index=index, columns=['cases', 'hospital', 'deaths'])\n",
    "    for entry in rawdata:\n",
    "        date=parse_date(entry['date'])\n",
    "        for column in ['cases', 'hospital', 'deaths']:\n",
    "            if pd.isna(timeseriesdf.loc[date, column]):\n",
    "                value= float(entry[column]) if entry[column]!=None else 0.0\n",
    "                timeseriesdf.loc[date, column]=value\n",
    "    timeseriesdf.fillna(0.0, inplace=True)\n",
    "    \n",
    "\n",
    "    datadic=rawdata_ga[0] # data['data'] is a list\n",
    "    males=datadic['males']\n",
    "    females=datadic['females']\n",
    "    ageranges=[x['age'] for x in males]\n",
    "    def min_age(agerange):\n",
    "        agerange=agerange.replace('+','') # remove the + from 90+\n",
    "        start=agerange.split('_')[0]\n",
    "        return int(start)\n",
    "    ageranges.sort(key=min_age)\n",
    "    age_df=pd.DataFrame(index=ageranges, columns=['males','females', 'total'])\n",
    "    for entry in males:\n",
    "        ageband=entry['age'] # our index position\n",
    "        age_df.loc[ageband, 'males']=entry['rate']\n",
    "    for entry in females:\n",
    "        ageband=entry['age']\n",
    "        age_df.loc[ageband, 'females']=entry['rate']\n",
    "    \n",
    "# this is straightforward\n",
    "    age_df['total']=age_df['males']+age_df['females']\n",
    "    return timeseriesdf , age_df\n",
    "# putting the wrangling code into a function allows you to call it again after refreshing the data through \n",
    "# the API. You should call the function directly on the JSON data when the dashboard starts, by including \n",
    "# the call in the cell as below:\n",
    "with open(\"timeseries.json\", \"rt\") as INFILE:\n",
    "    jsondata=json.load(INFILE)\n",
    "with open(\"agedistribution.json\", \"rt\") as INFILE:\n",
    "    jsondata_ga=json.load(INFILE)\n",
    "df,df_ga =wrangle_data(jsondata,jsondata_ga) # df is the dataframe for plotting\n",
    "df.to_pickle(\"timeseriesdf.pkl\")\n",
    "df_ga.to_pickle(\"agedf.pkl\")"
   ]
  },
  {
   "cell_type": "code",
   "execution_count": 128,
   "metadata": {},
   "outputs": [],
   "source": [
    "# Place your API access code in this function. Do not call this function directly; it will be called by \n",
    "# the button callback. \n",
    "def access_api():\n",
    "    filters = [ 'areaType=overview']\n",
    "    structure = {\"date\": \"date\", \"cases\": \"newCasesByPublishDate\",\"hospital\": \"newAdmissions\", \"deaths\": \"cumDeaths28DaysByDeathDateRate\" }\n",
    "    api = Cov19API(filters=filters, structure=structure)\n",
    "    timeseries=api.get_json()\n",
    "    jsondata=timeseries['data']  \n",
    "    \n",
    "    filters_ga = [ 'areaType=nation', 'areaName=England']\n",
    "    structure_ga = {\"males\": \"maleCases\",\"females\": \"femaleCases\"}\n",
    "    api_age = Cov19API(filters=filters_ga, structure=structure_ga)\n",
    "    agedist=api_age.get_json()\n",
    "    jsondata_ga=agedist['data']\n",
    "    return jsondata, jsondata_ga  \n",
    "    \"\"\" Accesses the PHE API. Returns raw data in the same format as data loaded from the \"canned\" JSON file. \"\"\"\n",
    "     # return data read from the API"
   ]
  },
  {
   "cell_type": "code",
   "execution_count": 129,
   "metadata": {},
   "outputs": [
    {
     "data": {
      "application/vnd.jupyter.widget-view+json": {
       "model_id": "516241087e2c46eba0b6d59d45a16146",
       "version_major": 2,
       "version_minor": 0
      },
      "text/plain": [
       "Button(button_style='success', description='Update data', icon='exclamation-triangle', style=ButtonStyle(), to…"
      ]
     },
     "metadata": {},
     "output_type": "display_data"
    }
   ],
   "source": [
    "# Printout from this function will be lost in Voila unless captured in an\n",
    "# output widget - therefore, we give feedback to the user by changing the \n",
    "# appearance of the button\n",
    "def api_button_callback(button):\n",
    "    \"\"\" Button callback - it must take the button as its parameter (unused in this case).\n",
    "    Accesses API, wrangles data, updates global variable df used for plotting. \"\"\"\n",
    "    # Get fresh data from the API. If you have time, include some error handling\n",
    "    # around this call.\n",
    "    apidata,apidata_ga=access_api()\n",
    "    # wrangle the data and overwrite the dataframe for plotting\n",
    "    global df\n",
    "    df,df_ga=wrangle_data(apidata,apidata_ga)\n",
    "    # the graph won't refresh until the user interacts with the widget.\n",
    "    # this function simulates the interaction, see Graph and Analysis below.\n",
    "    # you can omit this step in the first instance\n",
    "    refresh_graph()\n",
    "    # after all is done, you can switch the icon on the button to a \"check\" sign\n",
    "    # and optionally disable the button - it won't be needed again. You can use icons\n",
    "    # \"unlink\" or \"times\" and change the button text to \"Unavailable\" in case the \n",
    "    # api call fails.\n",
    "    apibutton.icon=\"check\"\n",
    "    # apibutton.disabled=True\n",
    "\n",
    "    \n",
    "apibutton=wdg.Button(\n",
    "    description='Update data', # you may want to change this...\n",
    "    disabled=False,\n",
    "    button_style='success', # 'success', 'info', 'warning', 'danger' or ''\n",
    "    tooltip='Click to download current Public Health England data',\n",
    "    # FontAwesome names without the `fa-` prefix - try \"download\"\n",
    "    icon='exclamation-triangle'\n",
    ")\n",
    "\n",
    "# remember to register your button callback function with the button\n",
    "apibutton.on_click(api_button_callback) # the name of your function inside these brackets\n",
    "\n",
    "display(apibutton)\n",
    "\n",
    "# run all cells before clicking on this button"
   ]
  },
  {
   "cell_type": "markdown",
   "metadata": {},
   "source": [
    "## Graphs and Analysis"
   ]
  },
  {
   "cell_type": "markdown",
   "metadata": {},
   "source": [
    "The line graph shows the number of new covid cases, new hospital admissions and 28 days cummulutive death rates in England. \n",
    "The bar chart shows the rate of cases by age and gender in England. "
   ]
  },
  {
   "cell_type": "code",
   "execution_count": 130,
   "metadata": {},
   "outputs": [
    {
     "data": {
      "application/vnd.jupyter.widget-view+json": {
       "model_id": "bf1b169ac1e249bdafdbb24fc17081f7",
       "version_major": 2,
       "version_minor": 0
      },
      "text/plain": [
       "HBox(children=(SelectMultiple(description='Stats:', index=(0, 1, 2), options=('cases', 'hospital', 'deaths'), …"
      ]
     },
     "metadata": {},
     "output_type": "display_data"
    },
    {
     "data": {
      "application/vnd.jupyter.widget-view+json": {
       "model_id": "63c46625e0734bddb4d62c01c180311f",
       "version_major": 2,
       "version_minor": 0
      },
      "text/plain": [
       "Output()"
      ]
     },
     "metadata": {},
     "output_type": "display_data"
    }
   ],
   "source": [
    "series=wdg.SelectMultiple(\n",
    "    options=['cases', 'hospital', 'deaths'],\n",
    "    value=['cases', 'hospital', 'deaths'],\n",
    "    rows=3,\n",
    "    description='Stats:',\n",
    "    disabled=False\n",
    ")\n",
    "\n",
    "scale=wdg.RadioButtons(\n",
    "    options=['linear', 'log'],\n",
    "#    value='pineapple', # Defaults to 'pineapple'\n",
    "#    layout={'width': 'max-content'}, # If the items' names are long\n",
    "    description='Scale:',\n",
    "    disabled=False\n",
    ")\n",
    "\n",
    "# try replacing HBox with a VBox\n",
    "controls=wdg.HBox([series, scale])\n",
    "def timeseries_graph(gcols, gscale):\n",
    "    if gscale=='linear':\n",
    "        logscale=False\n",
    "    else:\n",
    "        logscale=True\n",
    "    ncols=len(gcols)\n",
    "    if ncols>0:\n",
    "        df[list(gcols)].plot(logy=logscale)\n",
    "    else:\n",
    "        print(\"Click to select data for graph\")\n",
    "        print(\"(CTRL-Click to select more than one category)\")\n",
    "\n",
    "def refresh_graph():\n",
    "    \"\"\" We change the value of the widget in order to force a redraw of the graph;\n",
    "    this is useful when the data have been updated. This is a bit of a gimmick; it\n",
    "    needs to be customised for one of your widgets. \"\"\"\n",
    "    current=series.value\n",
    "    if current==series.options[0]:\n",
    "        other=series.options[0:3]\n",
    "    else:\n",
    "        other=series.options[0:3]\n",
    "    series.value=other # forces the redraw\n",
    "    series.value=current # now we can change it back\n",
    "    \n",
    "graph=wdg.interactive_output(timeseries_graph, {'gcols': series, 'gscale': scale})\n",
    "    \n",
    "display(controls, graph)"
   ]
  },
  {
   "cell_type": "code",
   "execution_count": 131,
   "metadata": {},
   "outputs": [
    {
     "data": {
      "application/vnd.jupyter.widget-view+json": {
       "model_id": "9d4ff726a89d4d49982461407dd723e4",
       "version_major": 2,
       "version_minor": 0
      },
      "text/plain": [
       "SelectMultiple(description='Sex', index=(0, 1), options=('males', 'females', 'total'), rows=3, value=('males',…"
      ]
     },
     "metadata": {},
     "output_type": "display_data"
    },
    {
     "data": {
      "application/vnd.jupyter.widget-view+json": {
       "model_id": "fa744ffeca5d47529b8dd4faaf624e92",
       "version_major": 2,
       "version_minor": 0
      },
      "text/plain": [
       "Output()"
      ]
     },
     "metadata": {},
     "output_type": "display_data"
    }
   ],
   "source": [
    "agecols=wdg.SelectMultiple(\n",
    "    options=['males', 'females', 'total'], # options available\n",
    "    value=['males', 'females'], # initial value\n",
    "    rows=3, # rows of the selection box\n",
    "    description='Sex',\n",
    "    disabled=False\n",
    ")\n",
    "\n",
    "def age_graph(graphcolumns):\n",
    "    # our callback function.\n",
    "    ncols=len(graphcolumns)\n",
    "    if ncols>0:\n",
    "        df_ga.plot(kind='bar', y=list(graphcolumns)) # graphcolumns is a tuple - we need a list\n",
    "    else:\n",
    "        # if the user has not selected any column, print a message instead\n",
    "        print(\"Click to select data for graph\")\n",
    "        print(\"(CTRL-Click to select more than one category)\")\n",
    " \n",
    "\n",
    "output=wdg.interactive_output(age_graph, {'graphcolumns': agecols})\n",
    "\n",
    "display(agecols, output)"
   ]
  },
  {
   "cell_type": "markdown",
   "metadata": {},
   "source": [
    "data source: *Based on UK Government [data](https://coronavirus.data.gov.uk/) published by [Public Health England](https://www.gov.uk/government/organisations/public-health-england).*"
   ]
  },
  {
   "cell_type": "code",
   "execution_count": null,
   "metadata": {},
   "outputs": [],
   "source": []
  }
 ],
 "metadata": {
  "kernelspec": {
   "display_name": "Python 3",
   "language": "python",
   "name": "python3"
  },
  "language_info": {
   "codemirror_mode": {
    "name": "ipython",
    "version": 3
   },
   "file_extension": ".py",
   "mimetype": "text/x-python",
   "name": "python",
   "nbconvert_exporter": "python",
   "pygments_lexer": "ipython3",
   "version": "3.8.5"
  }
 },
 "nbformat": 4,
 "nbformat_minor": 4
}
